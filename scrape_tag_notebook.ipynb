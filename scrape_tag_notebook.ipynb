{
 "cells": [
  {
   "cell_type": "code",
   "execution_count": null,
   "metadata": {
    "pycharm": {
     "name": "#%%\n"
    }
   },
   "outputs": [],
   "source": [
    "import requests\n",
    "import json\n",
    "from time import sleep"
   ]
  },
  {
   "cell_type": "code",
   "execution_count": null,
   "metadata": {},
   "outputs": [],
   "source": [
    "url = \"https://www.instagram.com/explore/tags/fakeaccount/?__a=1\"\n"
   ]
  },
  {
   "cell_type": "code",
   "execution_count": null,
   "metadata": {},
   "outputs": [],
   "source": [
    "sessionId = \"48118356474%3AHX4poiiXwfxhmj%3A27\"\n",
    "headers = {\"sessionid\": sessionId}\n",
    "response = requests.get(url,cookies=headers)"
   ]
  },
  {
   "cell_type": "code",
   "execution_count": null,
   "metadata": {},
   "outputs": [],
   "source": [
    "r = json.loads(response.text)\n",
    "try:\n",
    "    max_id = r['graphql']['hashtag']['edge_hashtag_to_media']['page_info']['end_cursor']\n",
    "    print(f\"New cursor is {max_id}\")\n",
    "except KeyError:\n",
    "    print(\"There's no next page!\")\n"
   ]
  },
  {
   "cell_type": "code",
   "execution_count": null,
   "metadata": {
    "pycharm": {
     "name": "#%%"
    }
   },
   "outputs": [],
   "source": [
    "r['graphql']['hashtag']['edge_hashtag_to_media']['page_info']['end_cursor']"
   ]
  },
  {
   "cell_type": "code",
   "execution_count": null,
   "metadata": {},
   "outputs": [],
   "source": [
    "from json_processor import collect_values"
   ]
  },
  {
   "cell_type": "code",
   "execution_count": 67,
   "metadata": {},
   "outputs": [],
   "source": [
    "import pandas as pd"
   ]
  },
  {
   "cell_type": "code",
   "execution_count": 71,
   "metadata": {},
   "outputs": [],
   "source": [
    "df = pd.read_csv(\"fake_account_posts.csv\")"
   ]
  },
  {
   "cell_type": "code",
   "execution_count": 72,
   "metadata": {},
   "outputs": [
    {
     "data": {
      "text/plain": [
       "1082"
      ]
     },
     "execution_count": 72,
     "metadata": {},
     "output_type": "execute_result"
    }
   ],
   "source": [
    "df.code.unique().size"
   ]
  },
  {
   "cell_type": "code",
   "execution_count": 73,
   "metadata": {},
   "outputs": [
    {
     "data": {
      "text/html": [
       "<div>\n",
       "<style scoped>\n",
       "    .dataframe tbody tr th:only-of-type {\n",
       "        vertical-align: middle;\n",
       "    }\n",
       "\n",
       "    .dataframe tbody tr th {\n",
       "        vertical-align: top;\n",
       "    }\n",
       "\n",
       "    .dataframe thead th {\n",
       "        text-align: right;\n",
       "    }\n",
       "</style>\n",
       "<table border=\"1\" class=\"dataframe\">\n",
       "  <thead>\n",
       "    <tr style=\"text-align: right;\">\n",
       "      <th></th>\n",
       "      <th>code</th>\n",
       "      <th>ts</th>\n",
       "      <th>max_id</th>\n",
       "    </tr>\n",
       "  </thead>\n",
       "  <tbody>\n",
       "    <tr>\n",
       "      <th>0</th>\n",
       "      <td>CLTKJ3cMcE9</td>\n",
       "      <td>1623257728</td>\n",
       "      <td>NaN</td>\n",
       "    </tr>\n",
       "    <tr>\n",
       "      <th>1</th>\n",
       "      <td>CLKYVfrJF0V</td>\n",
       "      <td>1623257728</td>\n",
       "      <td>NaN</td>\n",
       "    </tr>\n",
       "    <tr>\n",
       "      <th>2</th>\n",
       "      <td>CMiJb1BszJX</td>\n",
       "      <td>1623257728</td>\n",
       "      <td>NaN</td>\n",
       "    </tr>\n",
       "    <tr>\n",
       "      <th>3</th>\n",
       "      <td>CM--1wBpJZD</td>\n",
       "      <td>1623257728</td>\n",
       "      <td>NaN</td>\n",
       "    </tr>\n",
       "    <tr>\n",
       "      <th>4</th>\n",
       "      <td>CLHAP_nn0wH</td>\n",
       "      <td>1623257728</td>\n",
       "      <td>NaN</td>\n",
       "    </tr>\n",
       "    <tr>\n",
       "      <th>...</th>\n",
       "      <td>...</td>\n",
       "      <td>...</td>\n",
       "      <td>...</td>\n",
       "    </tr>\n",
       "    <tr>\n",
       "      <th>1501</th>\n",
       "      <td>COmg0iLJpPI</td>\n",
       "      <td>1623259327</td>\n",
       "      <td>QVFDQm4xaW93eVVXVjdZd0VHM0dzRVhfdEpCRy10bmtzQT...</td>\n",
       "    </tr>\n",
       "    <tr>\n",
       "      <th>1502</th>\n",
       "      <td>COmgyb9p9Ub</td>\n",
       "      <td>1623259327</td>\n",
       "      <td>QVFDQm4xaW93eVVXVjdZd0VHM0dzRVhfdEpCRy10bmtzQT...</td>\n",
       "    </tr>\n",
       "    <tr>\n",
       "      <th>1503</th>\n",
       "      <td>COmguStJWrN</td>\n",
       "      <td>1623259327</td>\n",
       "      <td>QVFDQm4xaW93eVVXVjdZd0VHM0dzRVhfdEpCRy10bmtzQT...</td>\n",
       "    </tr>\n",
       "    <tr>\n",
       "      <th>1504</th>\n",
       "      <td>COmgpv2paPY</td>\n",
       "      <td>1623259327</td>\n",
       "      <td>QVFDQm4xaW93eVVXVjdZd0VHM0dzRVhfdEpCRy10bmtzQT...</td>\n",
       "    </tr>\n",
       "    <tr>\n",
       "      <th>1505</th>\n",
       "      <td>COmgk19JdBY</td>\n",
       "      <td>1623259327</td>\n",
       "      <td>QVFDQm4xaW93eVVXVjdZd0VHM0dzRVhfdEpCRy10bmtzQT...</td>\n",
       "    </tr>\n",
       "  </tbody>\n",
       "</table>\n",
       "<p>1506 rows × 3 columns</p>\n",
       "</div>"
      ],
      "text/plain": [
       "             code          ts  \\\n",
       "0     CLTKJ3cMcE9  1623257728   \n",
       "1     CLKYVfrJF0V  1623257728   \n",
       "2     CMiJb1BszJX  1623257728   \n",
       "3     CM--1wBpJZD  1623257728   \n",
       "4     CLHAP_nn0wH  1623257728   \n",
       "...           ...         ...   \n",
       "1501  COmg0iLJpPI  1623259327   \n",
       "1502  COmgyb9p9Ub  1623259327   \n",
       "1503  COmguStJWrN  1623259327   \n",
       "1504  COmgpv2paPY  1623259327   \n",
       "1505  COmgk19JdBY  1623259327   \n",
       "\n",
       "                                                 max_id  \n",
       "0                                                   NaN  \n",
       "1                                                   NaN  \n",
       "2                                                   NaN  \n",
       "3                                                   NaN  \n",
       "4                                                   NaN  \n",
       "...                                                 ...  \n",
       "1501  QVFDQm4xaW93eVVXVjdZd0VHM0dzRVhfdEpCRy10bmtzQT...  \n",
       "1502  QVFDQm4xaW93eVVXVjdZd0VHM0dzRVhfdEpCRy10bmtzQT...  \n",
       "1503  QVFDQm4xaW93eVVXVjdZd0VHM0dzRVhfdEpCRy10bmtzQT...  \n",
       "1504  QVFDQm4xaW93eVVXVjdZd0VHM0dzRVhfdEpCRy10bmtzQT...  \n",
       "1505  QVFDQm4xaW93eVVXVjdZd0VHM0dzRVhfdEpCRy10bmtzQT...  \n",
       "\n",
       "[1506 rows x 3 columns]"
      ]
     },
     "execution_count": 73,
     "metadata": {},
     "output_type": "execute_result"
    }
   ],
   "source": [
    "df"
   ]
  },
  {
   "cell_type": "code",
   "execution_count": null,
   "metadata": {},
   "outputs": [],
   "source": []
  }
 ],
 "metadata": {
  "kernelspec": {
   "display_name": "Python 3",
   "language": "python",
   "name": "python3"
  },
  "language_info": {
   "codemirror_mode": {
    "name": "ipython",
    "version": 3
   },
   "file_extension": ".py",
   "mimetype": "text/x-python",
   "name": "python",
   "nbconvert_exporter": "python",
   "pygments_lexer": "ipython3",
   "version": "3.7.9"
  }
 },
 "nbformat": 4,
 "nbformat_minor": 1
}
