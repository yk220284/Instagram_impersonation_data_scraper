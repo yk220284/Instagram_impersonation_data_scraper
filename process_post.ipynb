{
 "cells": [
  {
   "cell_type": "code",
   "execution_count": 14,
   "metadata": {},
   "outputs": [],
   "source": [
    "from instascrape import Post, Profile"
   ]
  },
  {
   "cell_type": "code",
   "execution_count": 2,
   "metadata": {
    "pycharm": {
     "name": "#%%\n"
    }
   },
   "outputs": [],
   "source": [
    "import pandas as pd"
   ]
  },
  {
   "cell_type": "code",
   "execution_count": 3,
   "metadata": {
    "pycharm": {
     "name": "#%%\n"
    }
   },
   "outputs": [
    {
     "data": {
      "text/html": [
       "<div>\n",
       "<style scoped>\n",
       "    .dataframe tbody tr th:only-of-type {\n",
       "        vertical-align: middle;\n",
       "    }\n",
       "\n",
       "    .dataframe tbody tr th {\n",
       "        vertical-align: top;\n",
       "    }\n",
       "\n",
       "    .dataframe thead th {\n",
       "        text-align: right;\n",
       "    }\n",
       "</style>\n",
       "<table border=\"1\" class=\"dataframe\">\n",
       "  <thead>\n",
       "    <tr style=\"text-align: right;\">\n",
       "      <th></th>\n",
       "      <th>code</th>\n",
       "      <th>ts</th>\n",
       "      <th>max_id</th>\n",
       "    </tr>\n",
       "  </thead>\n",
       "  <tbody>\n",
       "    <tr>\n",
       "      <th>0</th>\n",
       "      <td>CLTKJ3cMcE9</td>\n",
       "      <td>1623260439</td>\n",
       "      <td>NaN</td>\n",
       "    </tr>\n",
       "    <tr>\n",
       "      <th>1</th>\n",
       "      <td>CLKYVfrJF0V</td>\n",
       "      <td>1623260439</td>\n",
       "      <td>NaN</td>\n",
       "    </tr>\n",
       "    <tr>\n",
       "      <th>2</th>\n",
       "      <td>CMiJb1BszJX</td>\n",
       "      <td>1623260439</td>\n",
       "      <td>NaN</td>\n",
       "    </tr>\n",
       "    <tr>\n",
       "      <th>3</th>\n",
       "      <td>CM--1wBpJZD</td>\n",
       "      <td>1623260439</td>\n",
       "      <td>NaN</td>\n",
       "    </tr>\n",
       "    <tr>\n",
       "      <th>4</th>\n",
       "      <td>CLe5BftBHld</td>\n",
       "      <td>1623260439</td>\n",
       "      <td>NaN</td>\n",
       "    </tr>\n",
       "    <tr>\n",
       "      <th>...</th>\n",
       "      <td>...</td>\n",
       "      <td>...</td>\n",
       "      <td>...</td>\n",
       "    </tr>\n",
       "    <tr>\n",
       "      <th>1876</th>\n",
       "      <td>COQSlR5FPmd</td>\n",
       "      <td>1623260845</td>\n",
       "      <td>QVFBaWdoanpUdm1qUTNxSFg5RnJGMkFHS25ZOTdYZXhULX...</td>\n",
       "    </tr>\n",
       "    <tr>\n",
       "      <th>1877</th>\n",
       "      <td>COQSbjvloaq</td>\n",
       "      <td>1623260845</td>\n",
       "      <td>QVFBaWdoanpUdm1qUTNxSFg5RnJGMkFHS25ZOTdYZXhULX...</td>\n",
       "    </tr>\n",
       "    <tr>\n",
       "      <th>1878</th>\n",
       "      <td>COQSYEKlJ5b</td>\n",
       "      <td>1623260845</td>\n",
       "      <td>QVFBaWdoanpUdm1qUTNxSFg5RnJGMkFHS25ZOTdYZXhULX...</td>\n",
       "    </tr>\n",
       "    <tr>\n",
       "      <th>1879</th>\n",
       "      <td>COQSPXPl2My</td>\n",
       "      <td>1623260845</td>\n",
       "      <td>QVFBaWdoanpUdm1qUTNxSFg5RnJGMkFHS25ZOTdYZXhULX...</td>\n",
       "    </tr>\n",
       "    <tr>\n",
       "      <th>1880</th>\n",
       "      <td>COQQUUCB7HW</td>\n",
       "      <td>1623260845</td>\n",
       "      <td>QVFBaWdoanpUdm1qUTNxSFg5RnJGMkFHS25ZOTdYZXhULX...</td>\n",
       "    </tr>\n",
       "  </tbody>\n",
       "</table>\n",
       "<p>1881 rows × 3 columns</p>\n",
       "</div>"
      ],
      "text/plain": [
       "             code          ts  \\\n",
       "0     CLTKJ3cMcE9  1623260439   \n",
       "1     CLKYVfrJF0V  1623260439   \n",
       "2     CMiJb1BszJX  1623260439   \n",
       "3     CM--1wBpJZD  1623260439   \n",
       "4     CLe5BftBHld  1623260439   \n",
       "...           ...         ...   \n",
       "1876  COQSlR5FPmd  1623260845   \n",
       "1877  COQSbjvloaq  1623260845   \n",
       "1878  COQSYEKlJ5b  1623260845   \n",
       "1879  COQSPXPl2My  1623260845   \n",
       "1880  COQQUUCB7HW  1623260845   \n",
       "\n",
       "                                                 max_id  \n",
       "0                                                   NaN  \n",
       "1                                                   NaN  \n",
       "2                                                   NaN  \n",
       "3                                                   NaN  \n",
       "4                                                   NaN  \n",
       "...                                                 ...  \n",
       "1876  QVFBaWdoanpUdm1qUTNxSFg5RnJGMkFHS25ZOTdYZXhULX...  \n",
       "1877  QVFBaWdoanpUdm1qUTNxSFg5RnJGMkFHS25ZOTdYZXhULX...  \n",
       "1878  QVFBaWdoanpUdm1qUTNxSFg5RnJGMkFHS25ZOTdYZXhULX...  \n",
       "1879  QVFBaWdoanpUdm1qUTNxSFg5RnJGMkFHS25ZOTdYZXhULX...  \n",
       "1880  QVFBaWdoanpUdm1qUTNxSFg5RnJGMkFHS25ZOTdYZXhULX...  \n",
       "\n",
       "[1881 rows x 3 columns]"
      ]
     },
     "execution_count": 3,
     "metadata": {},
     "output_type": "execute_result"
    }
   ],
   "source": [
    "from scrape_tag import INSTAGRAM_CONFIG_FILE, read_config\n",
    "df = pd.read_csv(\"fake_account_posts.csv\")\n",
    "df"
   ]
  },
  {
   "cell_type": "code",
   "execution_count": 6,
   "metadata": {
    "pycharm": {
     "name": "#%%\n"
    }
   },
   "outputs": [
    {
     "data": {
      "text/plain": [
       "{'User-Agent': 'Mozilla/5.0 (Windows NT 10.0; Win64; x64) AppleWebKit/537.36 (KHTML, like Gecko) Chrome/79.0.3945.74 Safari/537.36 Edg/79.0.309.43',\n",
       " 'cookie': 'sessionid=48118356474%3AHX4poiiXwfxhmj%3A27;'}"
      ]
     },
     "execution_count": 6,
     "metadata": {},
     "output_type": "execute_result"
    }
   ],
   "source": [
    "from instascrape import Profile\n",
    "\n",
    "SESSIONID = read_config(INSTAGRAM_CONFIG_FILE, 'session_id')\n",
    "\n",
    "headers = {\n",
    "\"User-Agent\": \"Mozilla/5.0 (Windows NT 10.0; Win64; x64) AppleWebKit/537.36 (KHTML, like Gecko) Chrome/79.0.3945.74 Safari/537.36 Edg/79.0.309.43\",\n",
    "\"cookie\":f'sessionid={SESSIONID};'\n",
    "}\n"
   ]
  },
  {
   "cell_type": "code",
   "execution_count": 10,
   "metadata": {
    "pycharm": {
     "name": "#%%\n"
    }
   },
   "outputs": [],
   "source": [
    "p = Post(\"CLTKJ3cMcE9\")\n",
    "p.scrape(headers=headers)"
   ]
  },
  {
   "cell_type": "code",
   "execution_count": 13,
   "metadata": {},
   "outputs": [
    {
     "data": {
      "text/plain": [
       "{'id': '2509394075844723005',\n",
       " 'shortcode': 'CLTKJ3cMcE9',\n",
       " 'height': 1350,\n",
       " 'width': 1080,\n",
       " 'gating_info': None,\n",
       " 'fact_check_overall_rating': None,\n",
       " 'fact_check_information': None,\n",
       " 'sensitivity_friction_info': None,\n",
       " 'media_overlay_info': None,\n",
       " 'media_preview': 'ACEq1zfASmIAnbjJ+ueg9Bj/AAq2yhiMkj6EiqU1vG8m9kyynI+Yj+X0HHSrG8OMkYPbvz+VIY9NoOASSPUnHP6H+lSKwYZH+FRB48Z459v/AK1PTb/CMfhj+lMRJRRRQBQkim3EgoFyTyBnHvxSRxTEhiUKHngDke3FTzzLGFyR87BeT69f0rG1O4kjmRIXKKVAwuOu4j+WKvm6WX3EcvW7+82vLwSFC+oyPX/64qTJfp0HUjv7D+v5etYrXU5yrZQDgPjJxuxz2zxz25pitKuU8yQ4OM4QD+uazWuxo/d1f9eZ0NFYOZf+er/+O/8AxNFXyy7Mx9pD+Zfeit9nUzFt+0gFlAyev94nkZ9h0zU/2Yshdm3Y5zjGMZPGck9TzmqsX/H0/wDur/IVbkJ3xjsWbP8A3zULubJsEkDRsgG7oGznv9f6VECgfgMG9OoIxnr2OBkdz6VUkdt7jJxjpnjqKjRj5p5P+RS229TTdO/p8rbG1sHv+VFZnnP/AHm/M0Uc8u7MPZQ/lX3I/9k=',\n",
       " 'display_url': 'https://instagram.flhr4-4.fna.fbcdn.net/v/t51.2885-15/e35/p1080x1080/150264036_131957105458919_7326264618825514509_n.jpg?tp=1&_nc_ht=instagram.flhr4-4.fna.fbcdn.net&_nc_cat=111&_nc_ohc=dQsIzbxpPrMAX9dTjtr&edm=AABBvjUBAAAA&ccb=7-4&oh=b599036f4fb0789f5c2cbb2e51cdcc1c&oe=60C77D07&_nc_sid=83d603',\n",
       " 'accessibility_caption': \"Photo by ANNARAYA on February 14, 2021. May be an image of 7 people and text that says 'emmanulla_vin 7 Posts 166 Followers 54 Following Emmanuella vin Am Thelma, and an just a simple free person and well behaved girl Follow Message രാ'.\",\n",
       " 'is_video': False,\n",
       " 'tracking_token': 'eyJ2ZXJzaW9uIjo1LCJwYXlsb2FkIjp7ImlzX2FuYWx5dGljc190cmFja2VkIjpmYWxzZSwidXVpZCI6ImY3ZjQ1MGE1OGQ0ZDRhYzQ4MTQ4ZWFlNDRkNzhlNjA0MjUwOTM5NDA3NTg0NDcyMzAwNSIsInNlcnZlcl90b2tlbiI6IjE2MjMyNjE0MDU0MjR8MjUwOTM5NDA3NTg0NDcyMzAwNXw0ODExODM1NjQ3NHxlNzNjMTdlMDE1ZTc1Mjk1NmIyNzU4ZGRjNWY2NzE4ZGVlYzI4NTEyM2Y1NDhiY2ZhMjk1MGNmOWQ4YzUzOTk2In0sInNpZ25hdHVyZSI6IiJ9',\n",
       " 'tagged_users': [],\n",
       " 'caption': '❌❌🚫มาอีกแล้วนะค้า ไอจีผีเปรตค่า❌ ถ้าใครทักไรมาด้วยไอจีต่างๆแบบนี้ ไม่ใช่แอนนานะคะ เป็นเพียงคน ‼️ไร้สมอง‼️ ❌❌\\n⛔️⛔️⛔️⛔️⛔️⛔️⛔️ IT ‘S NOT ME❌❌❌❌\\nอยากเป็น ‼️อยากเหมือน ‼️รึอยากแอบอ้าง ไม่รู้นะ ก็เลย ก็ได้แค่เหมือน.. แต่ไม่มีวันเป็นตัวจริงค่ะ ❌❌🚫🚫‼️\\n❌❌🚫🚫แอนนามีแค่ 1 ไอจีค่ะ❌❌🚫\\n#เตือนภัยสังคม ❌❌\\n#โปรดระวัง 🚫🚫\\n#fakeaccount ❌❌\\n#beware ❌❌❌❌❌⛔️⛔️⛔️⛔️',\n",
       " 'caption_is_edited': True,\n",
       " 'has_ranked_comments': False,\n",
       " 'comments': 158,\n",
       " 'comments_disabled': False,\n",
       " 'commenting_disabled_for_viewer': False,\n",
       " 'timestamp': 1613363106,\n",
       " 'likes': 381,\n",
       " 'location': nan,\n",
       " 'viewer_has_liked': False,\n",
       " 'viewer_has_saved': False,\n",
       " 'viewer_has_saved_to_collection': False,\n",
       " 'viewer_in_photo_of_you': False,\n",
       " 'viewer_can_reshare': True,\n",
       " 'video_url': nan,\n",
       " 'has_audio': nan,\n",
       " 'video_view_count': nan,\n",
       " 'username': 'annaraya_6697',\n",
       " 'full_name': 'ANNARAYA',\n",
       " 'profile_pic_url': nan,\n",
       " 'profile_pic_url_hd': nan,\n",
       " 'upload_date': datetime.datetime(2021, 2, 15, 4, 25, 6),\n",
       " 'hashtags': ['เต', 'โปรดระว', 'fakeaccount', 'beware']}"
      ]
     },
     "execution_count": 13,
     "metadata": {},
     "output_type": "execute_result"
    }
   ],
   "source": [
    "p.to_dict()"
   ]
  },
  {
   "cell_type": "code",
   "execution_count": 17,
   "metadata": {},
   "outputs": [],
   "source": [
    "user = Profile(\"annaraya_6697\")\n",
    "user.scrape(headers=headers)"
   ]
  },
  {
   "cell_type": "code",
   "execution_count": 18,
   "metadata": {},
   "outputs": [
    {
     "data": {
      "text/plain": [
       "{'logging_page_id': 'profilePage_4075588392',\n",
       " 'show_suggested_profiles': False,\n",
       " 'show_follow_dialog': False,\n",
       " 'biography': 'created just for my individual project',\n",
       " 'blocked_by_viewer': False,\n",
       " 'restricted_by_viewer': False,\n",
       " 'country_block': False,\n",
       " 'external_url': None,\n",
       " 'external_url_linkshimmed': None,\n",
       " 'followers': 33705,\n",
       " 'followed_by_viewer': False,\n",
       " 'following': 1720,\n",
       " 'follows_viewer': False,\n",
       " 'full_name': 'ANNARAYA',\n",
       " 'has_ar_effects': False,\n",
       " 'has_clips': True,\n",
       " 'has_guides': False,\n",
       " 'has_channel': False,\n",
       " 'has_blocked_viewer': False,\n",
       " 'highlight_reel_count': 248,\n",
       " 'has_requested_viewer': False,\n",
       " 'id': '48118356474',\n",
       " 'is_business_account': False,\n",
       " 'is_joined_recently': True,\n",
       " 'business_category_name': None,\n",
       " 'overall_category_name': None,\n",
       " 'category_enum': None,\n",
       " 'is_private': False,\n",
       " 'is_verified': False,\n",
       " 'mutual_followers': 0,\n",
       " 'profile_pic_url': 'https://instagram.flhr4-3.fna.fbcdn.net/v/t51.2885-19/s150x150/15538484_583833531822686_2640369194331275264_a.jpg?tp=1&_nc_ht=instagram.flhr4-3.fna.fbcdn.net&_nc_ohc=HQ6MCTPZLaEAX_swQhw&tn=s1eI1cuQaAfHRU4D&edm=ABfd0MgBAAAA&ccb=7-4&oh=df036b75970efe164532d706ea8bf481&oe=60C85BF8&_nc_sid=7bff83',\n",
       " 'profile_pic_url_hd': 'https://instagram.flhr4-3.fna.fbcdn.net/v/t51.2885-19/s320x320/15538484_583833531822686_2640369194331275264_a.jpg?tp=1&_nc_ht=instagram.flhr4-3.fna.fbcdn.net&_nc_ohc=HQ6MCTPZLaEAX_swQhw&edm=ABfd0MgBAAAA&ccb=7-4&oh=885f41389d9a7e13bd625e31d41ce541&oe=60C74108&_nc_sid=7bff83',\n",
       " 'requested_by_viewer': False,\n",
       " 'username': 'annaraya_6697',\n",
       " 'connected_fb_page': None,\n",
       " 'posts': 3396}"
      ]
     },
     "execution_count": 18,
     "metadata": {},
     "output_type": "execute_result"
    }
   ],
   "source": [
    "user.to_dict()"
   ]
  },
  {
   "cell_type": "code",
   "execution_count": null,
   "metadata": {},
   "outputs": [],
   "source": []
  }
 ],
 "metadata": {
  "kernelspec": {
   "display_name": "Python 3",
   "language": "python",
   "name": "python3"
  },
  "language_info": {
   "codemirror_mode": {
    "name": "ipython",
    "version": 3
   },
   "file_extension": ".py",
   "mimetype": "text/x-python",
   "name": "python",
   "nbconvert_exporter": "python",
   "pygments_lexer": "ipython3",
   "version": "3.7.9"
  }
 },
 "nbformat": 4,
 "nbformat_minor": 1
}
