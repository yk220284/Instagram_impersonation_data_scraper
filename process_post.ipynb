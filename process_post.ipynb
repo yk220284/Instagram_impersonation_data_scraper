{
 "cells": [
  {
   "cell_type": "code",
   "execution_count": 19,
   "metadata": {},
   "outputs": [],
   "source": [
    "from instascrape import Post, Profile"
   ]
  },
  {
   "cell_type": "code",
   "execution_count": 20,
   "metadata": {
    "pycharm": {
     "name": "#%%\n"
    }
   },
   "outputs": [],
   "source": [
    "import pandas as pd"
   ]
  },
  {
   "cell_type": "code",
   "execution_count": 21,
   "metadata": {
    "pycharm": {
     "name": "#%%\n"
    }
   },
   "outputs": [
    {
     "data": {
      "text/html": [
       "<div>\n",
       "<style scoped>\n",
       "    .dataframe tbody tr th:only-of-type {\n",
       "        vertical-align: middle;\n",
       "    }\n",
       "\n",
       "    .dataframe tbody tr th {\n",
       "        vertical-align: top;\n",
       "    }\n",
       "\n",
       "    .dataframe thead th {\n",
       "        text-align: right;\n",
       "    }\n",
       "</style>\n",
       "<table border=\"1\" class=\"dataframe\">\n",
       "  <thead>\n",
       "    <tr style=\"text-align: right;\">\n",
       "      <th></th>\n",
       "      <th>code</th>\n",
       "      <th>ts</th>\n",
       "      <th>max_id</th>\n",
       "    </tr>\n",
       "  </thead>\n",
       "  <tbody>\n",
       "    <tr>\n",
       "      <th>0</th>\n",
       "      <td>CLTKJ3cMcE9</td>\n",
       "      <td>1623260439</td>\n",
       "      <td>NaN</td>\n",
       "    </tr>\n",
       "    <tr>\n",
       "      <th>1</th>\n",
       "      <td>CLKYVfrJF0V</td>\n",
       "      <td>1623260439</td>\n",
       "      <td>NaN</td>\n",
       "    </tr>\n",
       "    <tr>\n",
       "      <th>2</th>\n",
       "      <td>CMiJb1BszJX</td>\n",
       "      <td>1623260439</td>\n",
       "      <td>NaN</td>\n",
       "    </tr>\n",
       "    <tr>\n",
       "      <th>3</th>\n",
       "      <td>CM--1wBpJZD</td>\n",
       "      <td>1623260439</td>\n",
       "      <td>NaN</td>\n",
       "    </tr>\n",
       "    <tr>\n",
       "      <th>4</th>\n",
       "      <td>CLe5BftBHld</td>\n",
       "      <td>1623260439</td>\n",
       "      <td>NaN</td>\n",
       "    </tr>\n",
       "    <tr>\n",
       "      <th>...</th>\n",
       "      <td>...</td>\n",
       "      <td>...</td>\n",
       "      <td>...</td>\n",
       "    </tr>\n",
       "    <tr>\n",
       "      <th>1876</th>\n",
       "      <td>COQSlR5FPmd</td>\n",
       "      <td>1623260845</td>\n",
       "      <td>QVFBaWdoanpUdm1qUTNxSFg5RnJGMkFHS25ZOTdYZXhULX...</td>\n",
       "    </tr>\n",
       "    <tr>\n",
       "      <th>1877</th>\n",
       "      <td>COQSbjvloaq</td>\n",
       "      <td>1623260845</td>\n",
       "      <td>QVFBaWdoanpUdm1qUTNxSFg5RnJGMkFHS25ZOTdYZXhULX...</td>\n",
       "    </tr>\n",
       "    <tr>\n",
       "      <th>1878</th>\n",
       "      <td>COQSYEKlJ5b</td>\n",
       "      <td>1623260845</td>\n",
       "      <td>QVFBaWdoanpUdm1qUTNxSFg5RnJGMkFHS25ZOTdYZXhULX...</td>\n",
       "    </tr>\n",
       "    <tr>\n",
       "      <th>1879</th>\n",
       "      <td>COQSPXPl2My</td>\n",
       "      <td>1623260845</td>\n",
       "      <td>QVFBaWdoanpUdm1qUTNxSFg5RnJGMkFHS25ZOTdYZXhULX...</td>\n",
       "    </tr>\n",
       "    <tr>\n",
       "      <th>1880</th>\n",
       "      <td>COQQUUCB7HW</td>\n",
       "      <td>1623260845</td>\n",
       "      <td>QVFBaWdoanpUdm1qUTNxSFg5RnJGMkFHS25ZOTdYZXhULX...</td>\n",
       "    </tr>\n",
       "  </tbody>\n",
       "</table>\n",
       "<p>1881 rows × 3 columns</p>\n",
       "</div>"
      ],
      "text/plain": [
       "             code          ts  \\\n",
       "0     CLTKJ3cMcE9  1623260439   \n",
       "1     CLKYVfrJF0V  1623260439   \n",
       "2     CMiJb1BszJX  1623260439   \n",
       "3     CM--1wBpJZD  1623260439   \n",
       "4     CLe5BftBHld  1623260439   \n",
       "...           ...         ...   \n",
       "1876  COQSlR5FPmd  1623260845   \n",
       "1877  COQSbjvloaq  1623260845   \n",
       "1878  COQSYEKlJ5b  1623260845   \n",
       "1879  COQSPXPl2My  1623260845   \n",
       "1880  COQQUUCB7HW  1623260845   \n",
       "\n",
       "                                                 max_id  \n",
       "0                                                   NaN  \n",
       "1                                                   NaN  \n",
       "2                                                   NaN  \n",
       "3                                                   NaN  \n",
       "4                                                   NaN  \n",
       "...                                                 ...  \n",
       "1876  QVFBaWdoanpUdm1qUTNxSFg5RnJGMkFHS25ZOTdYZXhULX...  \n",
       "1877  QVFBaWdoanpUdm1qUTNxSFg5RnJGMkFHS25ZOTdYZXhULX...  \n",
       "1878  QVFBaWdoanpUdm1qUTNxSFg5RnJGMkFHS25ZOTdYZXhULX...  \n",
       "1879  QVFBaWdoanpUdm1qUTNxSFg5RnJGMkFHS25ZOTdYZXhULX...  \n",
       "1880  QVFBaWdoanpUdm1qUTNxSFg5RnJGMkFHS25ZOTdYZXhULX...  \n",
       "\n",
       "[1881 rows x 3 columns]"
      ]
     },
     "execution_count": 21,
     "metadata": {},
     "output_type": "execute_result"
    }
   ],
   "source": [
    "from scrape_tag import INSTAGRAM_CONFIG_FILE, read_config\n",
    "df = pd.read_csv(\"fake_account_posts.csv\")\n",
    "df"
   ]
  },
  {
   "cell_type": "code",
   "execution_count": 22,
   "metadata": {
    "pycharm": {
     "name": "#%%\n"
    }
   },
   "outputs": [],
   "source": [
    "from instascrape import Profile\n",
    "\n",
    "SESSIONID = read_config(INSTAGRAM_CONFIG_FILE, 'session_id')\n",
    "\n",
    "headers = {\n",
    "\"User-Agent\": \"Mozilla/5.0 (Windows NT 10.0; Win64; x64) AppleWebKit/537.36 (KHTML, like Gecko) Chrome/79.0.3945.74 Safari/537.36 Edg/79.0.309.43\",\n",
    "\"cookie\":f'sessionid={SESSIONID};'\n",
    "}\n"
   ]
  },
  {
   "cell_type": "code",
   "execution_count": 28,
   "metadata": {
    "pycharm": {
     "name": "#%%\n"
    }
   },
   "outputs": [],
   "source": [
    "p = Post(\"CLKYVfrJF0V\")\n",
    "p.scrape(headers=headers)"
   ]
  },
  {
   "cell_type": "code",
   "execution_count": 30,
   "metadata": {},
   "outputs": [],
   "source": [
    "p.to_csv(\"test.json\")"
   ]
  },
  {
   "cell_type": "code",
   "execution_count": 32,
   "metadata": {},
   "outputs": [],
   "source": [
    "p.download(\"test.png\")"
   ]
  },
  {
   "cell_type": "code",
   "execution_count": 17,
   "metadata": {},
   "outputs": [],
   "source": [
    "user = Profile(\"annaraya_6697\")\n",
    "user.scrape(headers=headers)"
   ]
  },
  {
   "cell_type": "code",
   "execution_count": 18,
   "metadata": {},
   "outputs": [
    {
     "data": {
      "text/plain": [
       "{'logging_page_id': 'profilePage_4075588392',\n",
       " 'show_suggested_profiles': False,\n",
       " 'show_follow_dialog': False,\n",
       " 'biography': 'created just for my individual project',\n",
       " 'blocked_by_viewer': False,\n",
       " 'restricted_by_viewer': False,\n",
       " 'country_block': False,\n",
       " 'external_url': None,\n",
       " 'external_url_linkshimmed': None,\n",
       " 'followers': 33705,\n",
       " 'followed_by_viewer': False,\n",
       " 'following': 1720,\n",
       " 'follows_viewer': False,\n",
       " 'full_name': 'ANNARAYA',\n",
       " 'has_ar_effects': False,\n",
       " 'has_clips': True,\n",
       " 'has_guides': False,\n",
       " 'has_channel': False,\n",
       " 'has_blocked_viewer': False,\n",
       " 'highlight_reel_count': 248,\n",
       " 'has_requested_viewer': False,\n",
       " 'id': '48118356474',\n",
       " 'is_business_account': False,\n",
       " 'is_joined_recently': True,\n",
       " 'business_category_name': None,\n",
       " 'overall_category_name': None,\n",
       " 'category_enum': None,\n",
       " 'is_private': False,\n",
       " 'is_verified': False,\n",
       " 'mutual_followers': 0,\n",
       " 'profile_pic_url': 'https://instagram.flhr4-3.fna.fbcdn.net/v/t51.2885-19/s150x150/15538484_583833531822686_2640369194331275264_a.jpg?tp=1&_nc_ht=instagram.flhr4-3.fna.fbcdn.net&_nc_ohc=HQ6MCTPZLaEAX_swQhw&tn=s1eI1cuQaAfHRU4D&edm=ABfd0MgBAAAA&ccb=7-4&oh=df036b75970efe164532d706ea8bf481&oe=60C85BF8&_nc_sid=7bff83',\n",
       " 'profile_pic_url_hd': 'https://instagram.flhr4-3.fna.fbcdn.net/v/t51.2885-19/s320x320/15538484_583833531822686_2640369194331275264_a.jpg?tp=1&_nc_ht=instagram.flhr4-3.fna.fbcdn.net&_nc_ohc=HQ6MCTPZLaEAX_swQhw&edm=ABfd0MgBAAAA&ccb=7-4&oh=885f41389d9a7e13bd625e31d41ce541&oe=60C74108&_nc_sid=7bff83',\n",
       " 'requested_by_viewer': False,\n",
       " 'username': 'annaraya_6697',\n",
       " 'connected_fb_page': None,\n",
       " 'posts': 3396}"
      ]
     },
     "execution_count": 18,
     "metadata": {},
     "output_type": "execute_result"
    }
   ],
   "source": [
    "user.to_dict()"
   ]
  },
  {
   "cell_type": "code",
   "execution_count": null,
   "metadata": {},
   "outputs": [],
   "source": []
  }
 ],
 "metadata": {
  "kernelspec": {
   "display_name": "Python 3",
   "language": "python",
   "name": "python3"
  },
  "language_info": {
   "codemirror_mode": {
    "name": "ipython",
    "version": 3
   },
   "file_extension": ".py",
   "mimetype": "text/x-python",
   "name": "python",
   "nbconvert_exporter": "python",
   "pygments_lexer": "ipython3",
   "version": "3.7.9"
  }
 },
 "nbformat": 4,
 "nbformat_minor": 1
}
